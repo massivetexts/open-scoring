{
 "cells": [
  {
   "cell_type": "markdown",
   "metadata": {},
   "source": [
    "# Reshape Participant-Level Data"
   ]
  },
  {
   "cell_type": "code",
   "execution_count": 1,
   "metadata": {},
   "outputs": [],
   "source": [
    "%load_ext autoreload\n",
    "%autoreload 2"
   ]
  },
  {
   "cell_type": "code",
   "execution_count": 2,
   "metadata": {},
   "outputs": [],
   "source": [
    "import file"
   ]
  },
  {
   "cell_type": "code",
   "execution_count": 3,
   "metadata": {},
   "outputs": [
    {
     "data": {
      "text/html": [
       "<div>\n",
       "<style scoped>\n",
       "    .dataframe tbody tr th:only-of-type {\n",
       "        vertical-align: middle;\n",
       "    }\n",
       "\n",
       "    .dataframe tbody tr th {\n",
       "        vertical-align: top;\n",
       "    }\n",
       "\n",
       "    .dataframe thead th {\n",
       "        text-align: right;\n",
       "    }\n",
       "</style>\n",
       "<table border=\"1\" class=\"dataframe\">\n",
       "  <thead>\n",
       "    <tr style=\"text-align: right;\">\n",
       "      <th></th>\n",
       "      <th>participant</th>\n",
       "      <th>book</th>\n",
       "      <th>rope</th>\n",
       "      <th>fork</th>\n",
       "      <th>table</th>\n",
       "      <th>pants</th>\n",
       "      <th>bottle</th>\n",
       "      <th>brick</th>\n",
       "      <th>tire</th>\n",
       "      <th>shovel</th>\n",
       "      <th>shoe</th>\n",
       "    </tr>\n",
       "  </thead>\n",
       "  <tbody>\n",
       "    <tr>\n",
       "      <th>87</th>\n",
       "      <td>88.0</td>\n",
       "      <td>seat booster\\ndoor stop\\nweapon\\nfire starter\\...</td>\n",
       "      <td>outline\\nhammock\\ndecoration\\n\\n</td>\n",
       "      <td>NaN</td>\n",
       "      <td>float if wooden\\nstool\\nstage\\n</td>\n",
       "      <td>flotation device\\nvegi bag\\nlong headband\\nrope\\n</td>\n",
       "      <td>miniature boat holder\\nsand holder\\nliquid hol...</td>\n",
       "      <td>paper weight\\nwindow breaker\\nweapon\\ndoor stop\\n</td>\n",
       "      <td>swing\\nplaypen\\ngarden frame for veggie's\\n</td>\n",
       "      <td>wall decoration\\ngiant punch bowl mixer\\nweapon\\n</td>\n",
       "      <td>cat equalizer\\nplanter for small flower\\n</td>\n",
       "    </tr>\n",
       "    <tr>\n",
       "      <th>77</th>\n",
       "      <td>78.0</td>\n",
       "      <td>doorstop\\nleaf/flower press\\nfirestarter\\nweap...</td>\n",
       "      <td>jump rope\\nhanging plants\\ncoil into sculpture...</td>\n",
       "      <td>bend into a sculpture\\nsmall splint\\ndig dirt\\...</td>\n",
       "      <td>eat at\\nuse for drawing/painting\\nturn upside ...</td>\n",
       "      <td>fabric for tablecloth\\ntie closed to make bags...</td>\n",
       "      <td>vase\\nbreak into pieces to use as a mosaic\\nho...</td>\n",
       "      <td>weapon\\npaperweight\\nhold up a table\\ndoorstop...</td>\n",
       "      <td>make a swing\\nbounce on it\\nroll it down hills...</td>\n",
       "      <td>dig things\\nweapon to hit someone\\npaint for a...</td>\n",
       "      <td>throw at someone\\nhit someone\\npaint for decor...</td>\n",
       "    </tr>\n",
       "  </tbody>\n",
       "</table>\n",
       "</div>"
      ],
      "text/plain": [
       "    participant                                               book  \\\n",
       "87         88.0  seat booster\\ndoor stop\\nweapon\\nfire starter\\...   \n",
       "77         78.0  doorstop\\nleaf/flower press\\nfirestarter\\nweap...   \n",
       "\n",
       "                                                 rope  \\\n",
       "87                   outline\\nhammock\\ndecoration\\n\\n   \n",
       "77  jump rope\\nhanging plants\\ncoil into sculpture...   \n",
       "\n",
       "                                                 fork  \\\n",
       "87                                                NaN   \n",
       "77  bend into a sculpture\\nsmall splint\\ndig dirt\\...   \n",
       "\n",
       "                                                table  \\\n",
       "87                    float if wooden\\nstool\\nstage\\n   \n",
       "77  eat at\\nuse for drawing/painting\\nturn upside ...   \n",
       "\n",
       "                                                pants  \\\n",
       "87  flotation device\\nvegi bag\\nlong headband\\nrope\\n   \n",
       "77  fabric for tablecloth\\ntie closed to make bags...   \n",
       "\n",
       "                                               bottle  \\\n",
       "87  miniature boat holder\\nsand holder\\nliquid hol...   \n",
       "77  vase\\nbreak into pieces to use as a mosaic\\nho...   \n",
       "\n",
       "                                                brick  \\\n",
       "87  paper weight\\nwindow breaker\\nweapon\\ndoor stop\\n   \n",
       "77  weapon\\npaperweight\\nhold up a table\\ndoorstop...   \n",
       "\n",
       "                                                 tire  \\\n",
       "87        swing\\nplaypen\\ngarden frame for veggie's\\n   \n",
       "77  make a swing\\nbounce on it\\nroll it down hills...   \n",
       "\n",
       "                                               shovel  \\\n",
       "87  wall decoration\\ngiant punch bowl mixer\\nweapon\\n   \n",
       "77  dig things\\nweapon to hit someone\\npaint for a...   \n",
       "\n",
       "                                                 shoe  \n",
       "87          cat equalizer\\nplanter for small flower\\n  \n",
       "77  throw at someone\\nhit someone\\npaint for decor...  "
      ]
     },
     "execution_count": 3,
     "metadata": {},
     "output_type": "execute_result"
    }
   ],
   "source": [
    "data = file.WideData('Measurement study/Participant level data/AlternateUses.xls')\n",
    "# Original format\n",
    "data._original.sample(2)"
   ]
  },
  {
   "cell_type": "code",
   "execution_count": 4,
   "metadata": {},
   "outputs": [
    {
     "data": {
      "text/html": [
       "<div>\n",
       "<style scoped>\n",
       "    .dataframe tbody tr th:only-of-type {\n",
       "        vertical-align: middle;\n",
       "    }\n",
       "\n",
       "    .dataframe tbody tr th {\n",
       "        vertical-align: top;\n",
       "    }\n",
       "\n",
       "    .dataframe thead th {\n",
       "        text-align: right;\n",
       "    }\n",
       "</style>\n",
       "<table border=\"1\" class=\"dataframe\">\n",
       "  <thead>\n",
       "    <tr style=\"text-align: right;\">\n",
       "      <th></th>\n",
       "      <th>participant</th>\n",
       "      <th>prompt</th>\n",
       "      <th>response_num</th>\n",
       "      <th>response</th>\n",
       "    </tr>\n",
       "  </thead>\n",
       "  <tbody>\n",
       "    <tr>\n",
       "      <th>2515</th>\n",
       "      <td>32.0</td>\n",
       "      <td>tire</td>\n",
       "      <td>2</td>\n",
       "      <td>plant holder</td>\n",
       "    </tr>\n",
       "    <tr>\n",
       "      <th>2896</th>\n",
       "      <td>45.0</td>\n",
       "      <td>rope</td>\n",
       "      <td>3</td>\n",
       "      <td>jumprope</td>\n",
       "    </tr>\n",
       "    <tr>\n",
       "      <th>4884</th>\n",
       "      <td>9.0</td>\n",
       "      <td>table</td>\n",
       "      <td>5</td>\n",
       "      <td>for ironing</td>\n",
       "    </tr>\n",
       "    <tr>\n",
       "      <th>22134</th>\n",
       "      <td>55.0</td>\n",
       "      <td>book</td>\n",
       "      <td>24</td>\n",
       "      <td>paper weigh</td>\n",
       "    </tr>\n",
       "  </tbody>\n",
       "</table>\n",
       "</div>"
      ],
      "text/plain": [
       "       participant prompt response_num      response\n",
       "2515          32.0   tire            2  plant holder\n",
       "2896          45.0   rope            3      jumprope\n",
       "4884           9.0  table            5   for ironing\n",
       "22134         55.0   book           24   paper weigh"
      ]
     },
     "execution_count": 4,
     "metadata": {},
     "output_type": "execute_result"
    }
   ],
   "source": [
    "# Save long format\n",
    "data.df.to_csv('Measurement study/Participant level data/AlternateUses-cleaned.csv', index=False)\n",
    "data.df.sample(4)"
   ]
  },
  {
   "cell_type": "markdown",
   "metadata": {},
   "source": [
    "## Get Fluency Data"
   ]
  },
  {
   "cell_type": "code",
   "execution_count": 29,
   "metadata": {},
   "outputs": [
    {
     "data": {
      "text/html": [
       "<div>\n",
       "<style scoped>\n",
       "    .dataframe tbody tr th:only-of-type {\n",
       "        vertical-align: middle;\n",
       "    }\n",
       "\n",
       "    .dataframe tbody tr th {\n",
       "        vertical-align: top;\n",
       "    }\n",
       "\n",
       "    .dataframe thead th {\n",
       "        text-align: right;\n",
       "    }\n",
       "</style>\n",
       "<table border=\"1\" class=\"dataframe\">\n",
       "  <thead>\n",
       "    <tr style=\"text-align: right;\">\n",
       "      <th>prompt</th>\n",
       "      <th>book</th>\n",
       "      <th>bottle</th>\n",
       "      <th>brick</th>\n",
       "      <th>fork</th>\n",
       "      <th>pants</th>\n",
       "      <th>rope</th>\n",
       "      <th>shoe</th>\n",
       "      <th>shovel</th>\n",
       "      <th>table</th>\n",
       "      <th>tire</th>\n",
       "    </tr>\n",
       "    <tr>\n",
       "      <th>participant</th>\n",
       "      <th></th>\n",
       "      <th></th>\n",
       "      <th></th>\n",
       "      <th></th>\n",
       "      <th></th>\n",
       "      <th></th>\n",
       "      <th></th>\n",
       "      <th></th>\n",
       "      <th></th>\n",
       "      <th></th>\n",
       "    </tr>\n",
       "  </thead>\n",
       "  <tbody>\n",
       "    <tr>\n",
       "      <th>78</th>\n",
       "      <td>9.0</td>\n",
       "      <td>7.0</td>\n",
       "      <td>10.0</td>\n",
       "      <td>7.0</td>\n",
       "      <td>10.0</td>\n",
       "      <td>11.0</td>\n",
       "      <td>8.0</td>\n",
       "      <td>6.0</td>\n",
       "      <td>10.0</td>\n",
       "      <td>8.0</td>\n",
       "    </tr>\n",
       "    <tr>\n",
       "      <th>38</th>\n",
       "      <td>9.0</td>\n",
       "      <td>8.0</td>\n",
       "      <td>7.0</td>\n",
       "      <td>8.0</td>\n",
       "      <td>6.0</td>\n",
       "      <td>6.0</td>\n",
       "      <td>7.0</td>\n",
       "      <td>7.0</td>\n",
       "      <td>7.0</td>\n",
       "      <td>6.0</td>\n",
       "    </tr>\n",
       "    <tr>\n",
       "      <th>57</th>\n",
       "      <td>14.0</td>\n",
       "      <td>5.0</td>\n",
       "      <td>6.0</td>\n",
       "      <td>10.0</td>\n",
       "      <td>9.0</td>\n",
       "      <td>11.0</td>\n",
       "      <td>3.0</td>\n",
       "      <td>3.0</td>\n",
       "      <td>9.0</td>\n",
       "      <td>5.0</td>\n",
       "    </tr>\n",
       "  </tbody>\n",
       "</table>\n",
       "</div>"
      ],
      "text/plain": [
       "prompt       book  bottle  brick  fork  pants  rope  shoe  shovel  table  tire\n",
       "participant                                                                   \n",
       "78            9.0     7.0   10.0   7.0   10.0  11.0   8.0     6.0   10.0   8.0\n",
       "38            9.0     8.0    7.0   8.0    6.0   6.0   7.0     7.0    7.0   6.0\n",
       "57           14.0     5.0    6.0  10.0    9.0  11.0   3.0     3.0    9.0   5.0"
      ]
     },
     "execution_count": 29,
     "metadata": {},
     "output_type": "execute_result"
    }
   ],
   "source": [
    "data.fluency(wide=True).sample(3)"
   ]
  },
  {
   "cell_type": "markdown",
   "metadata": {},
   "source": [
    "## Parse Ground Truth for violent and sexual responses"
   ]
  },
  {
   "cell_type": "code",
   "execution_count": 3,
   "metadata": {},
   "outputs": [],
   "source": [
    "import pandas as pd\n",
    "import glob"
   ]
  },
  {
   "cell_type": "code",
   "execution_count": 24,
   "metadata": {},
   "outputs": [
    {
     "data": {
      "text/plain": [
       "(17082, 10)"
      ]
     },
     "execution_count": 24,
     "metadata": {},
     "output_type": "execute_result"
    }
   ],
   "source": [
    "files = glob.glob('Measurement study/Response level Data/*/AUT_Coding*')\n",
    "files = [file for file in files if 'Boulder' not in file]\n",
    "df = pd.concat([pd.read_excel(file).dropna(how='all') for file in files])\n",
    "combined = df.groupby(['Prompt', 'Response'], as_index=False).mean().sort_values('Violent', ascending=False)\n",
    "combined.columns = combined.columns.str.lower()\n",
    "combined[['prompt', 'response', 'violent', 'sexual']].to_csv('data/violent_ground_truth.txt')"
   ]
  }
 ],
 "metadata": {
  "kernelspec": {
   "display_name": "Python 3",
   "language": "python",
   "name": "python3"
  },
  "language_info": {
   "codemirror_mode": {
    "name": "ipython",
    "version": 3
   },
   "file_extension": ".py",
   "mimetype": "text/x-python",
   "name": "python",
   "nbconvert_exporter": "python",
   "pygments_lexer": "ipython3",
   "version": "3.6.7"
  }
 },
 "nbformat": 4,
 "nbformat_minor": 4
}

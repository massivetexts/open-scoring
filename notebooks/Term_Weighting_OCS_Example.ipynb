{
  "nbformat": 4,
  "nbformat_minor": 0,
  "metadata": {
    "colab": {
      "name": "Term Weighting OCS Example",
      "provenance": [],
      "authorship_tag": "ABX9TyMOEpz3Kw2QDxF3IhJzJKQe",
      "include_colab_link": true
    },
    "kernelspec": {
      "name": "python3",
      "display_name": "Python 3"
    },
    "language_info": {
      "name": "python"
    }
  },
  "cells": [
    {
      "cell_type": "markdown",
      "metadata": {
        "id": "view-in-github",
        "colab_type": "text"
      },
      "source": [
        "<a href=\"https://colab.research.google.com/github/massivetexts/open-scoring/blob/master/notebooks/Term_Weighting_OCS_Example.ipynb\" target=\"_parent\"><img src=\"https://colab.research.google.com/assets/colab-badge.svg\" alt=\"Open In Colab\"/></a>"
      ]
    },
    {
      "cell_type": "markdown",
      "source": [
        "# Testing Term-Weighting in [Open Creativity Scoring](https://openscoring.du.edu)\n",
        "\n",
        "Below, you can enter a phrase and see a visual output of what it's relative value in the phrase is.\n"
      ],
      "metadata": {
        "id": "oB_P7syc_dU8"
      }
    },
    {
      "cell_type": "code",
      "execution_count": null,
      "metadata": {
        "id": "eA8xGIL44abo",
        "cellView": "form"
      },
      "outputs": [],
      "source": [
        "#@title Setup\n",
        "#@markdown <-- Press the run button to run this cell.\n",
        "import pandas as pd\n",
        "from IPython.display import display_html, display, HTML\n",
        "import spacy\n",
        "nlp = spacy.load(\"en_core_web_sm\")\n",
        "\n",
        "#Download term weights\n",
        "!wget https://github.com/massivetexts/open-scoring/raw/master/data/idf-vals.parquet\n",
        "\n",
        "idf = pd.read_parquet('idf-vals.parquet')\n",
        "idf.head(1000).sample() # random word from top 1k"
      ]
    },
    {
      "cell_type": "code",
      "source": [
        "phrase = \"This is a test of the Open Scoring System term weighting. It shows the relative value of words in the score.\" #@param {type:'string'}\n",
        "doc = nlp(phrase, disable=['tagger', 'parser', 'ner', 'lemmatizer'])\n",
        "df = pd.DataFrame([(word, word.lower_) for word in doc], columns=['original', 'token']).merge(idf, how='left')\n",
        "# for words not in the IDF dictionary, use score of something around 10k.\n",
        "df = df.fillna(idf.iloc[10000]['IPF'])\n",
        "df['opacity'] = df['IPF'] / df['IPF'].max()\n",
        "get_span = lambda word, opacity: f'<span style=\"opacity:{opacity}\">{word}</span>'\n",
        "\n",
        "spans = df.apply(lambda x: get_span(x['original'], x['opacity']), axis=1)\n",
        "final_html = \" \".join(spans.tolist())\n",
        "display(HTML(f\"<h2>{final_html}</h2>\"))"
      ],
      "metadata": {
        "colab": {
          "base_uri": "https://localhost:8080/",
          "height": 64
        },
        "cellView": "form",
        "id": "3v4TjeiL8Hzy",
        "outputId": "c3eb5430-ebb4-46bd-d9c5-57663f0c1042"
      },
      "execution_count": 30,
      "outputs": [
        {
          "output_type": "display_data",
          "data": {
            "text/plain": [
              "<IPython.core.display.HTML object>"
            ],
            "text/html": [
              "<h2><span style=\"opacity:0.09873226432062787\">This</span> <span style=\"opacity:0.08575448633202443\">is</span> <span style=\"opacity:0.06857652098337588\">a</span> <span style=\"opacity:0.47415739726806166\">test</span> <span style=\"opacity:0.06748272851632324\">of</span> <span style=\"opacity:0.06659754775206679\">the</span> <span style=\"opacity:0.2719837916959412\">Open</span> <span style=\"opacity:0.8185469029889555\">Scoring</span> <span style=\"opacity:0.3854976884580788\">System</span> <span style=\"opacity:0.39007239527540744\">term</span> <span style=\"opacity:1.0\">weighting</span> <span style=\"opacity:0.06364689509663121\">.</span> <span style=\"opacity:0.08212673880684764\">It</span> <span style=\"opacity:0.3774108090988623\">shows</span> <span style=\"opacity:0.06659754775206679\">the</span> <span style=\"opacity:0.45301501882173767\">relative</span> <span style=\"opacity:0.35499377357635215\">value</span> <span style=\"opacity:0.06748272851632324\">of</span> <span style=\"opacity:0.2168789851390215\">words</span> <span style=\"opacity:0.06833114573930527\">in</span> <span style=\"opacity:0.06659754775206679\">the</span> <span style=\"opacity:0.4702521179624769\">score</span> <span style=\"opacity:0.06364689509663121\">.</span></h2>"
            ]
          },
          "metadata": {}
        }
      ]
    }
  ]
}
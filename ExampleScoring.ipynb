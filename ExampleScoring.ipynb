{
 "cells": [
  {
   "cell_type": "code",
   "execution_count": 2,
   "metadata": {},
   "outputs": [],
   "source": [
    "import file\n",
    "import scoring"
   ]
  },
  {
   "cell_type": "markdown",
   "metadata": {},
   "source": [
    "Here's how the original and reshaped data look:"
   ]
  },
  {
   "cell_type": "code",
   "execution_count": 7,
   "metadata": {},
   "outputs": [
    {
     "data": {
      "text/html": [
       "<div>\n",
       "<style scoped>\n",
       "    .dataframe tbody tr th:only-of-type {\n",
       "        vertical-align: middle;\n",
       "    }\n",
       "\n",
       "    .dataframe tbody tr th {\n",
       "        vertical-align: top;\n",
       "    }\n",
       "\n",
       "    .dataframe thead th {\n",
       "        text-align: right;\n",
       "    }\n",
       "</style>\n",
       "<table border=\"1\" class=\"dataframe\">\n",
       "  <thead>\n",
       "    <tr style=\"text-align: right;\">\n",
       "      <th></th>\n",
       "      <th>participant</th>\n",
       "      <th>book</th>\n",
       "      <th>rope</th>\n",
       "      <th>fork</th>\n",
       "      <th>table</th>\n",
       "      <th>pants</th>\n",
       "      <th>bottle</th>\n",
       "      <th>brick</th>\n",
       "      <th>tire</th>\n",
       "      <th>shovel</th>\n",
       "      <th>shoe</th>\n",
       "    </tr>\n",
       "  </thead>\n",
       "  <tbody>\n",
       "    <tr>\n",
       "      <th>70</th>\n",
       "      <td>71</td>\n",
       "      <td>Doorstop\\nRead\\nPress flowers\\nPaperweight\\nPr...</td>\n",
       "      <td>Tie up dog\\nHold a robe closed\\nHold pants up\\...</td>\n",
       "      <td>Eat\\nPry a jar lid open\\nDig in the dirt\\nScra...</td>\n",
       "      <td>Eat dinner\\nHold important papers\\nDo homework...</td>\n",
       "      <td>Wear them\\nTie around your head for sunshade. ...</td>\n",
       "      <td>Hold liquid\\nHold fireflies\\nEmergency pee bot...</td>\n",
       "      <td>Build something\\nThrow at something scary\\nSta...</td>\n",
       "      <td>Drive on it\\nRoll it down a hill for fun\\nPlan...</td>\n",
       "      <td>Dig flowers\\nChop the head off a snake\\nDig a ...</td>\n",
       "      <td>Squash a bug\\nWear on your feet\\nDance\\nHold a...</td>\n",
       "    </tr>\n",
       "  </tbody>\n",
       "</table>\n",
       "</div>"
      ],
      "text/plain": [
       "    participant                                               book  \\\n",
       "70           71  Doorstop\\nRead\\nPress flowers\\nPaperweight\\nPr...   \n",
       "\n",
       "                                                 rope  \\\n",
       "70  Tie up dog\\nHold a robe closed\\nHold pants up\\...   \n",
       "\n",
       "                                                 fork  \\\n",
       "70  Eat\\nPry a jar lid open\\nDig in the dirt\\nScra...   \n",
       "\n",
       "                                                table  \\\n",
       "70  Eat dinner\\nHold important papers\\nDo homework...   \n",
       "\n",
       "                                                pants  \\\n",
       "70  Wear them\\nTie around your head for sunshade. ...   \n",
       "\n",
       "                                               bottle  \\\n",
       "70  Hold liquid\\nHold fireflies\\nEmergency pee bot...   \n",
       "\n",
       "                                                brick  \\\n",
       "70  Build something\\nThrow at something scary\\nSta...   \n",
       "\n",
       "                                                 tire  \\\n",
       "70  Drive on it\\nRoll it down a hill for fun\\nPlan...   \n",
       "\n",
       "                                               shovel  \\\n",
       "70  Dig flowers\\nChop the head off a snake\\nDig a ...   \n",
       "\n",
       "                                                 shoe  \n",
       "70  Squash a bug\\nWear on your feet\\nDance\\nHold a...  "
      ]
     },
     "execution_count": 7,
     "metadata": {},
     "output_type": "execute_result"
    }
   ],
   "source": [
    "data = file.WideData('Measurement study/Participant level data/AlternateUses.xls')\n",
    "data._original.sample(1)"
   ]
  },
  {
   "cell_type": "code",
   "execution_count": 8,
   "metadata": {},
   "outputs": [
    {
     "data": {
      "text/html": [
       "<div>\n",
       "<style scoped>\n",
       "    .dataframe tbody tr th:only-of-type {\n",
       "        vertical-align: middle;\n",
       "    }\n",
       "\n",
       "    .dataframe tbody tr th {\n",
       "        vertical-align: top;\n",
       "    }\n",
       "\n",
       "    .dataframe thead th {\n",
       "        text-align: right;\n",
       "    }\n",
       "</style>\n",
       "<table border=\"1\" class=\"dataframe\">\n",
       "  <thead>\n",
       "    <tr style=\"text-align: right;\">\n",
       "      <th></th>\n",
       "      <th>participant</th>\n",
       "      <th>prompt</th>\n",
       "      <th>response_num</th>\n",
       "      <th>response</th>\n",
       "    </tr>\n",
       "  </thead>\n",
       "  <tbody>\n",
       "    <tr>\n",
       "      <th>11</th>\n",
       "      <td>12</td>\n",
       "      <td>book</td>\n",
       "      <td>0</td>\n",
       "      <td>as a weapon</td>\n",
       "    </tr>\n",
       "    <tr>\n",
       "      <th>8598</th>\n",
       "      <td>43</td>\n",
       "      <td>table</td>\n",
       "      <td>9</td>\n",
       "      <td>to sell for money</td>\n",
       "    </tr>\n",
       "  </tbody>\n",
       "</table>\n",
       "</div>"
      ],
      "text/plain": [
       "      participant prompt response_num           response\n",
       "11             12   book            0        as a weapon\n",
       "8598           43  table            9  to sell for money"
      ]
     },
     "execution_count": 8,
     "metadata": {},
     "output_type": "execute_result"
    }
   ],
   "source": [
    "data.df.sample(2)"
   ]
  },
  {
   "cell_type": "markdown",
   "metadata": {},
   "source": [
    "## Scoring"
   ]
  },
  {
   "cell_type": "markdown",
   "metadata": {},
   "source": [
    "Scoring is done with the AUT_Scorer class."
   ]
  },
  {
   "cell_type": "code",
   "execution_count": null,
   "metadata": {},
   "outputs": [],
   "source": [
    "scorer = scoring.AUT_Scorer()\n",
    "scorer.load_model('EN_100_lsa', '/data/tasa/EN_100k.word2vec.bin')\n",
    "scorer.load_model('TASA_lsa', '/data/tasa/TASA.word2vec.bin')"
   ]
  },
  {
   "cell_type": "code",
   "execution_count": 11,
   "metadata": {},
   "outputs": [
    {
     "data": {
      "text/plain": [
       "0.31790173053741455"
      ]
     },
     "execution_count": 11,
     "metadata": {},
     "output_type": "execute_result"
    }
   ],
   "source": [
    "scorer.originality('shoe', 'wear', 'EN_100_lsa')"
   ]
  },
  {
   "cell_type": "code",
   "execution_count": 13,
   "metadata": {},
   "outputs": [
    {
     "data": {
      "text/plain": [
       "0.6076052188873291"
      ]
     },
     "execution_count": 13,
     "metadata": {},
     "output_type": "execute_result"
    }
   ],
   "source": [
    "scorer.originality('shoe', 'planter', 'EN_100_lsa')"
   ]
  },
  {
   "cell_type": "markdown",
   "metadata": {},
   "source": [
    "## Scoring at the Dataset Level\n",
    "\n",
    "The WideData class takes a scorer and will add an internal column:"
   ]
  },
  {
   "cell_type": "code",
   "execution_count": 14,
   "metadata": {},
   "outputs": [
    {
     "data": {
      "text/html": [
       "<div>\n",
       "<style scoped>\n",
       "    .dataframe tbody tr th:only-of-type {\n",
       "        vertical-align: middle;\n",
       "    }\n",
       "\n",
       "    .dataframe tbody tr th {\n",
       "        vertical-align: top;\n",
       "    }\n",
       "\n",
       "    .dataframe thead th {\n",
       "        text-align: right;\n",
       "    }\n",
       "</style>\n",
       "<table border=\"1\" class=\"dataframe\">\n",
       "  <thead>\n",
       "    <tr style=\"text-align: right;\">\n",
       "      <th></th>\n",
       "      <th>participant</th>\n",
       "      <th>prompt</th>\n",
       "      <th>response_num</th>\n",
       "      <th>response</th>\n",
       "      <th>EN_100_lsa_stop_idf</th>\n",
       "    </tr>\n",
       "  </thead>\n",
       "  <tbody>\n",
       "    <tr>\n",
       "      <th>1629</th>\n",
       "      <td>66</td>\n",
       "      <td>tire</td>\n",
       "      <td>1</td>\n",
       "      <td>as a shield</td>\n",
       "      <td>0.514952</td>\n",
       "    </tr>\n",
       "    <tr>\n",
       "      <th>627</th>\n",
       "      <td>76</td>\n",
       "      <td>brick</td>\n",
       "      <td>0</td>\n",
       "      <td>a weapon</td>\n",
       "      <td>0.772552</td>\n",
       "    </tr>\n",
       "    <tr>\n",
       "      <th>2802</th>\n",
       "      <td>43</td>\n",
       "      <td>book</td>\n",
       "      <td>3</td>\n",
       "      <td>doorstop</td>\n",
       "      <td>NaN</td>\n",
       "    </tr>\n",
       "  </tbody>\n",
       "</table>\n",
       "</div>"
      ],
      "text/plain": [
       "      participant prompt response_num     response  EN_100_lsa_stop_idf\n",
       "1629           66   tire            1  as a shield             0.514952\n",
       "627            76  brick            0     a weapon             0.772552\n",
       "2802           43   book            3     doorstop                  NaN"
      ]
     },
     "execution_count": 14,
     "metadata": {},
     "output_type": "execute_result"
    }
   ],
   "source": [
    "data.score(scorer, 'EN_100_lsa', stop=True, idf=True)\n",
    "data.df.sample(3)"
   ]
  },
  {
   "cell_type": "markdown",
   "metadata": {},
   "source": [
    "You can also have it automatically score all the models that the scorer has loaded."
   ]
  },
  {
   "cell_type": "code",
   "execution_count": 16,
   "metadata": {},
   "outputs": [
    {
     "name": "stdout",
     "output_type": "stream",
     "text": [
      "Scoring EN_100_lsa\n",
      "Column EN_100_lsa_stop_idf already exists. Re-crunching and re-writing.\n",
      "Scoring TASA_lsa\n"
     ]
    }
   ],
   "source": [
    "data.score_all(scorer)"
   ]
  },
  {
   "cell_type": "code",
   "execution_count": 28,
   "metadata": {},
   "outputs": [
    {
     "data": {
      "text/html": [
       "<div>\n",
       "<style scoped>\n",
       "    .dataframe tbody tr th:only-of-type {\n",
       "        vertical-align: middle;\n",
       "    }\n",
       "\n",
       "    .dataframe tbody tr th {\n",
       "        vertical-align: top;\n",
       "    }\n",
       "\n",
       "    .dataframe thead th {\n",
       "        text-align: right;\n",
       "    }\n",
       "</style>\n",
       "<table border=\"1\" class=\"dataframe\">\n",
       "  <thead>\n",
       "    <tr style=\"text-align: right;\">\n",
       "      <th></th>\n",
       "      <th>participant</th>\n",
       "      <th>prompt</th>\n",
       "      <th>response_num</th>\n",
       "      <th>response</th>\n",
       "      <th>EN_100_lsa_stop_idf</th>\n",
       "      <th>TASA_lsa_stop_idf</th>\n",
       "    </tr>\n",
       "  </thead>\n",
       "  <tbody>\n",
       "    <tr>\n",
       "      <th>3836</th>\n",
       "      <td>65</td>\n",
       "      <td>rope</td>\n",
       "      <td>4</td>\n",
       "      <td>make a pencil holder</td>\n",
       "      <td>0.540625</td>\n",
       "      <td>0.963029</td>\n",
       "    </tr>\n",
       "    <tr>\n",
       "      <th>84</th>\n",
       "      <td>85</td>\n",
       "      <td>book</td>\n",
       "      <td>0</td>\n",
       "      <td>read</td>\n",
       "      <td>0.246462</td>\n",
       "      <td>0.727653</td>\n",
       "    </tr>\n",
       "  </tbody>\n",
       "</table>\n",
       "</div>"
      ],
      "text/plain": [
       "      participant prompt response_num              response  \\\n",
       "3836           65   rope            4  make a pencil holder   \n",
       "84             85   book            0                  read   \n",
       "\n",
       "      EN_100_lsa_stop_idf  TASA_lsa_stop_idf  \n",
       "3836             0.540625           0.963029  \n",
       "84               0.246462           0.727653  "
      ]
     },
     "execution_count": 28,
     "metadata": {},
     "output_type": "execute_result"
    }
   ],
   "source": [
    "data.df.sample(2)"
   ]
  }
 ],
 "metadata": {
  "kernelspec": {
   "display_name": "Python 3",
   "language": "python",
   "name": "python3"
  },
  "language_info": {
   "codemirror_mode": {
    "name": "ipython",
    "version": 3
   },
   "file_extension": ".py",
   "mimetype": "text/x-python",
   "name": "python",
   "nbconvert_exporter": "python",
   "pygments_lexer": "ipython3",
   "version": "3.6.7"
  }
 },
 "nbformat": 4,
 "nbformat_minor": 4
}

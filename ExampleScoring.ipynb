{
 "cells": [
  {
   "cell_type": "code",
   "execution_count": 1,
   "metadata": {},
   "outputs": [],
   "source": [
    "import file\n",
    "import scoring"
   ]
  },
  {
   "cell_type": "markdown",
   "metadata": {},
   "source": [
    "Here's how the original and reshaped data look:"
   ]
  },
  {
   "cell_type": "code",
   "execution_count": 2,
   "metadata": {},
   "outputs": [
    {
     "data": {
      "text/html": [
       "<div>\n",
       "<style scoped>\n",
       "    .dataframe tbody tr th:only-of-type {\n",
       "        vertical-align: middle;\n",
       "    }\n",
       "\n",
       "    .dataframe tbody tr th {\n",
       "        vertical-align: top;\n",
       "    }\n",
       "\n",
       "    .dataframe thead th {\n",
       "        text-align: right;\n",
       "    }\n",
       "</style>\n",
       "<table border=\"1\" class=\"dataframe\">\n",
       "  <thead>\n",
       "    <tr style=\"text-align: right;\">\n",
       "      <th></th>\n",
       "      <th>participant</th>\n",
       "      <th>book</th>\n",
       "      <th>rope</th>\n",
       "      <th>fork</th>\n",
       "      <th>table</th>\n",
       "      <th>pants</th>\n",
       "      <th>bottle</th>\n",
       "      <th>brick</th>\n",
       "      <th>tire</th>\n",
       "      <th>shovel</th>\n",
       "      <th>shoe</th>\n",
       "    </tr>\n",
       "  </thead>\n",
       "  <tbody>\n",
       "    <tr>\n",
       "      <th>48</th>\n",
       "      <td>49</td>\n",
       "      <td>I use a book to raise my monitor so that it is...</td>\n",
       "      <td>To tie someone up with\\nAs a dog chain\\nAs a p...</td>\n",
       "      <td>To create designs on cookies or play doe\\nTo f...</td>\n",
       "      <td>As a ladder to reach high places\\nAs a barrier...</td>\n",
       "      <td>Cut up and use as wash rags\\nCut up and use as...</td>\n",
       "      <td>Fill with sand and use like a sand bag\\nuse as...</td>\n",
       "      <td>As a wall\\nBuild A house\\nMake a planter\\nUse ...</td>\n",
       "      <td>Make a planter\\nMake a swing\\nMake a fence\\nmu...</td>\n",
       "      <td>Use as a base to make a scarecrow\\nUse as a we...</td>\n",
       "      <td>Fill with dirt and plant something\\nMake a pup...</td>\n",
       "    </tr>\n",
       "  </tbody>\n",
       "</table>\n",
       "</div>"
      ],
      "text/plain": [
       "    participant                                               book  \\\n",
       "48           49  I use a book to raise my monitor so that it is...   \n",
       "\n",
       "                                                 rope  \\\n",
       "48  To tie someone up with\\nAs a dog chain\\nAs a p...   \n",
       "\n",
       "                                                 fork  \\\n",
       "48  To create designs on cookies or play doe\\nTo f...   \n",
       "\n",
       "                                                table  \\\n",
       "48  As a ladder to reach high places\\nAs a barrier...   \n",
       "\n",
       "                                                pants  \\\n",
       "48  Cut up and use as wash rags\\nCut up and use as...   \n",
       "\n",
       "                                               bottle  \\\n",
       "48  Fill with sand and use like a sand bag\\nuse as...   \n",
       "\n",
       "                                                brick  \\\n",
       "48  As a wall\\nBuild A house\\nMake a planter\\nUse ...   \n",
       "\n",
       "                                                 tire  \\\n",
       "48  Make a planter\\nMake a swing\\nMake a fence\\nmu...   \n",
       "\n",
       "                                               shovel  \\\n",
       "48  Use as a base to make a scarecrow\\nUse as a we...   \n",
       "\n",
       "                                                 shoe  \n",
       "48  Fill with dirt and plant something\\nMake a pup...  "
      ]
     },
     "execution_count": 2,
     "metadata": {},
     "output_type": "execute_result"
    }
   ],
   "source": [
    "data = file.WideData('Measurement study/Participant level data/AlternateUses.xls')\n",
    "data._original.sample(1)"
   ]
  },
  {
   "cell_type": "code",
   "execution_count": 3,
   "metadata": {},
   "outputs": [
    {
     "data": {
      "text/html": [
       "<div>\n",
       "<style scoped>\n",
       "    .dataframe tbody tr th:only-of-type {\n",
       "        vertical-align: middle;\n",
       "    }\n",
       "\n",
       "    .dataframe tbody tr th {\n",
       "        vertical-align: top;\n",
       "    }\n",
       "\n",
       "    .dataframe thead th {\n",
       "        text-align: right;\n",
       "    }\n",
       "</style>\n",
       "<table border=\"1\" class=\"dataframe\">\n",
       "  <thead>\n",
       "    <tr style=\"text-align: right;\">\n",
       "      <th></th>\n",
       "      <th>participant</th>\n",
       "      <th>prompt</th>\n",
       "      <th>response_num</th>\n",
       "      <th>response</th>\n",
       "    </tr>\n",
       "  </thead>\n",
       "  <tbody>\n",
       "    <tr>\n",
       "      <th>6217</th>\n",
       "      <td>54</td>\n",
       "      <td>tire</td>\n",
       "      <td>6</td>\n",
       "      <td>doorstop</td>\n",
       "    </tr>\n",
       "    <tr>\n",
       "      <th>2428</th>\n",
       "      <td>37</td>\n",
       "      <td>brick</td>\n",
       "      <td>2</td>\n",
       "      <td>build</td>\n",
       "    </tr>\n",
       "  </tbody>\n",
       "</table>\n",
       "</div>"
      ],
      "text/plain": [
       "      participant prompt response_num  response\n",
       "6217           54   tire            6  doorstop\n",
       "2428           37  brick            2     build"
      ]
     },
     "execution_count": 3,
     "metadata": {},
     "output_type": "execute_result"
    }
   ],
   "source": [
    "data.df.sample(2)"
   ]
  },
  {
   "cell_type": "markdown",
   "metadata": {},
   "source": [
    "## Scoring"
   ]
  },
  {
   "cell_type": "markdown",
   "metadata": {},
   "source": [
    "Scoring is done with the AUT_Scorer class."
   ]
  },
  {
   "cell_type": "code",
   "execution_count": null,
   "metadata": {},
   "outputs": [],
   "source": [
    "scorer = scoring.AUT_Scorer()\n",
    "scorer.load_model('EN_100_lsa', '/data/tasa/EN_100k.word2vec.bin')\n",
    "scorer.load_model('TASA_lsa', '/data/tasa/TASA.word2vec.bin')"
   ]
  },
  {
   "cell_type": "code",
   "execution_count": 5,
   "metadata": {},
   "outputs": [
    {
     "data": {
      "text/plain": [
       "0.31790173053741455"
      ]
     },
     "execution_count": 5,
     "metadata": {},
     "output_type": "execute_result"
    }
   ],
   "source": [
    "scorer.originality('shoe', 'wear', 'EN_100_lsa')"
   ]
  },
  {
   "cell_type": "code",
   "execution_count": 6,
   "metadata": {},
   "outputs": [
    {
     "data": {
      "text/plain": [
       "0.6076052188873291"
      ]
     },
     "execution_count": 6,
     "metadata": {},
     "output_type": "execute_result"
    }
   ],
   "source": [
    "scorer.originality('shoe', 'planter', 'EN_100_lsa')"
   ]
  },
  {
   "cell_type": "markdown",
   "metadata": {},
   "source": [
    "## Scoring at the Dataset Level\n",
    "\n",
    "The WideData class takes a scorer and will add an internal column:"
   ]
  },
  {
   "cell_type": "code",
   "execution_count": 7,
   "metadata": {},
   "outputs": [
    {
     "data": {
      "text/html": [
       "<div>\n",
       "<style scoped>\n",
       "    .dataframe tbody tr th:only-of-type {\n",
       "        vertical-align: middle;\n",
       "    }\n",
       "\n",
       "    .dataframe tbody tr th {\n",
       "        vertical-align: top;\n",
       "    }\n",
       "\n",
       "    .dataframe thead th {\n",
       "        text-align: right;\n",
       "    }\n",
       "</style>\n",
       "<table border=\"1\" class=\"dataframe\">\n",
       "  <thead>\n",
       "    <tr style=\"text-align: right;\">\n",
       "      <th></th>\n",
       "      <th>participant</th>\n",
       "      <th>prompt</th>\n",
       "      <th>response_num</th>\n",
       "      <th>response</th>\n",
       "      <th>EN_100_lsa_stop_idf</th>\n",
       "    </tr>\n",
       "  </thead>\n",
       "  <tbody>\n",
       "    <tr>\n",
       "      <th>2692</th>\n",
       "      <td>25</td>\n",
       "      <td>shoe</td>\n",
       "      <td>2</td>\n",
       "      <td>to throw a target</td>\n",
       "      <td>0.632237</td>\n",
       "    </tr>\n",
       "    <tr>\n",
       "      <th>518</th>\n",
       "      <td>59</td>\n",
       "      <td>bottle</td>\n",
       "      <td>0</td>\n",
       "      <td>paperweight</td>\n",
       "      <td>0.577313</td>\n",
       "    </tr>\n",
       "    <tr>\n",
       "      <th>2892</th>\n",
       "      <td>41</td>\n",
       "      <td>rope</td>\n",
       "      <td>3</td>\n",
       "      <td>to help you learn how to balance</td>\n",
       "      <td>0.744707</td>\n",
       "    </tr>\n",
       "  </tbody>\n",
       "</table>\n",
       "</div>"
      ],
      "text/plain": [
       "      participant  prompt response_num                          response  \\\n",
       "2692           25    shoe            2                 to throw a target   \n",
       "518            59  bottle            0                       paperweight   \n",
       "2892           41    rope            3  to help you learn how to balance   \n",
       "\n",
       "      EN_100_lsa_stop_idf  \n",
       "2692             0.632237  \n",
       "518              0.577313  \n",
       "2892             0.744707  "
      ]
     },
     "execution_count": 7,
     "metadata": {},
     "output_type": "execute_result"
    }
   ],
   "source": [
    "data.score(scorer, 'EN_100_lsa', stop=True, idf=True)\n",
    "data.df.sample(3)"
   ]
  },
  {
   "cell_type": "markdown",
   "metadata": {},
   "source": [
    "You can also have it automatically score all the models that the scorer has loaded."
   ]
  },
  {
   "cell_type": "code",
   "execution_count": 8,
   "metadata": {},
   "outputs": [
    {
     "name": "stdout",
     "output_type": "stream",
     "text": [
      "Scoring EN_100_lsa\n",
      "Column EN_100_lsa_stop_idf already exists. Re-crunching and re-writing.\n",
      "Scoring TASA_lsa\n"
     ]
    }
   ],
   "source": [
    "data.score_all(scorer)"
   ]
  },
  {
   "cell_type": "code",
   "execution_count": 9,
   "metadata": {},
   "outputs": [
    {
     "data": {
      "text/html": [
       "<div>\n",
       "<style scoped>\n",
       "    .dataframe tbody tr th:only-of-type {\n",
       "        vertical-align: middle;\n",
       "    }\n",
       "\n",
       "    .dataframe tbody tr th {\n",
       "        vertical-align: top;\n",
       "    }\n",
       "\n",
       "    .dataframe thead th {\n",
       "        text-align: right;\n",
       "    }\n",
       "</style>\n",
       "<table border=\"1\" class=\"dataframe\">\n",
       "  <thead>\n",
       "    <tr style=\"text-align: right;\">\n",
       "      <th></th>\n",
       "      <th>participant</th>\n",
       "      <th>prompt</th>\n",
       "      <th>response_num</th>\n",
       "      <th>response</th>\n",
       "      <th>EN_100_lsa_stop_idf</th>\n",
       "      <th>TASA_lsa_stop_idf</th>\n",
       "    </tr>\n",
       "  </thead>\n",
       "  <tbody>\n",
       "    <tr>\n",
       "      <th>2660</th>\n",
       "      <td>85</td>\n",
       "      <td>shovel</td>\n",
       "      <td>2</td>\n",
       "      <td>paint</td>\n",
       "      <td>0.578778</td>\n",
       "      <td>1.013257</td>\n",
       "    </tr>\n",
       "    <tr>\n",
       "      <th>5638</th>\n",
       "      <td>27</td>\n",
       "      <td>rope</td>\n",
       "      <td>6</td>\n",
       "      <td>use it to safely climb a</td>\n",
       "      <td>0.484754</td>\n",
       "      <td>0.861565</td>\n",
       "    </tr>\n",
       "  </tbody>\n",
       "</table>\n",
       "</div>"
      ],
      "text/plain": [
       "      participant  prompt response_num                  response  \\\n",
       "2660           85  shovel            2                     paint   \n",
       "5638           27    rope            6  use it to safely climb a   \n",
       "\n",
       "      EN_100_lsa_stop_idf  TASA_lsa_stop_idf  \n",
       "2660             0.578778           1.013257  \n",
       "5638             0.484754           0.861565  "
      ]
     },
     "execution_count": 9,
     "metadata": {},
     "output_type": "execute_result"
    }
   ],
   "source": [
    "data.df.sample(2)"
   ]
  },
  {
   "cell_type": "markdown",
   "metadata": {},
   "source": [
    "## Export back to CSV"
   ]
  },
  {
   "cell_type": "code",
   "execution_count": 13,
   "metadata": {},
   "outputs": [
    {
     "data": {
      "text/html": [
       "<div>\n",
       "<style scoped>\n",
       "    .dataframe tbody tr th:only-of-type {\n",
       "        vertical-align: middle;\n",
       "    }\n",
       "\n",
       "    .dataframe tbody tr th {\n",
       "        vertical-align: top;\n",
       "    }\n",
       "\n",
       "    .dataframe thead tr th {\n",
       "        text-align: left;\n",
       "    }\n",
       "\n",
       "    .dataframe thead tr:last-of-type th {\n",
       "        text-align: right;\n",
       "    }\n",
       "</style>\n",
       "<table border=\"1\" class=\"dataframe\">\n",
       "  <thead>\n",
       "    <tr>\n",
       "      <th></th>\n",
       "      <th colspan=\"10\" halign=\"left\">EN_100_lsa_stop_idf</th>\n",
       "      <th colspan=\"10\" halign=\"left\">TASA_lsa_stop_idf</th>\n",
       "    </tr>\n",
       "    <tr>\n",
       "      <th>prompt</th>\n",
       "      <th>book</th>\n",
       "      <th>bottle</th>\n",
       "      <th>brick</th>\n",
       "      <th>fork</th>\n",
       "      <th>pants</th>\n",
       "      <th>rope</th>\n",
       "      <th>shoe</th>\n",
       "      <th>shovel</th>\n",
       "      <th>table</th>\n",
       "      <th>tire</th>\n",
       "      <th>book</th>\n",
       "      <th>bottle</th>\n",
       "      <th>brick</th>\n",
       "      <th>fork</th>\n",
       "      <th>pants</th>\n",
       "      <th>rope</th>\n",
       "      <th>shoe</th>\n",
       "      <th>shovel</th>\n",
       "      <th>table</th>\n",
       "      <th>tire</th>\n",
       "    </tr>\n",
       "    <tr>\n",
       "      <th>participant</th>\n",
       "      <th></th>\n",
       "      <th></th>\n",
       "      <th></th>\n",
       "      <th></th>\n",
       "      <th></th>\n",
       "      <th></th>\n",
       "      <th></th>\n",
       "      <th></th>\n",
       "      <th></th>\n",
       "      <th></th>\n",
       "      <th></th>\n",
       "      <th></th>\n",
       "      <th></th>\n",
       "      <th></th>\n",
       "      <th></th>\n",
       "      <th></th>\n",
       "      <th></th>\n",
       "      <th></th>\n",
       "      <th></th>\n",
       "      <th></th>\n",
       "    </tr>\n",
       "  </thead>\n",
       "  <tbody>\n",
       "    <tr>\n",
       "      <th>46</th>\n",
       "      <td>0.673326</td>\n",
       "      <td>0.610398</td>\n",
       "      <td>0.566580</td>\n",
       "      <td>0.673624</td>\n",
       "      <td>0.463940</td>\n",
       "      <td>0.426653</td>\n",
       "      <td>0.610470</td>\n",
       "      <td>0.550574</td>\n",
       "      <td>0.566176</td>\n",
       "      <td>0.590016</td>\n",
       "      <td>0.935649</td>\n",
       "      <td>0.941357</td>\n",
       "      <td>0.853700</td>\n",
       "      <td>0.872578</td>\n",
       "      <td>0.855365</td>\n",
       "      <td>0.825246</td>\n",
       "      <td>0.954721</td>\n",
       "      <td>0.887277</td>\n",
       "      <td>0.828142</td>\n",
       "      <td>0.924558</td>\n",
       "    </tr>\n",
       "    <tr>\n",
       "      <th>24</th>\n",
       "      <td>0.661632</td>\n",
       "      <td>0.662115</td>\n",
       "      <td>0.644766</td>\n",
       "      <td>0.688135</td>\n",
       "      <td>0.529568</td>\n",
       "      <td>0.538657</td>\n",
       "      <td>0.566158</td>\n",
       "      <td>0.539689</td>\n",
       "      <td>0.592623</td>\n",
       "      <td>0.486584</td>\n",
       "      <td>0.969414</td>\n",
       "      <td>0.967103</td>\n",
       "      <td>0.914566</td>\n",
       "      <td>0.963016</td>\n",
       "      <td>0.864231</td>\n",
       "      <td>0.840053</td>\n",
       "      <td>0.957946</td>\n",
       "      <td>0.933621</td>\n",
       "      <td>0.991763</td>\n",
       "      <td>0.865372</td>\n",
       "    </tr>\n",
       "  </tbody>\n",
       "</table>\n",
       "</div>"
      ],
      "text/plain": [
       "            EN_100_lsa_stop_idf                                          \\\n",
       "prompt                     book    bottle     brick      fork     pants   \n",
       "participant                                                               \n",
       "46                     0.673326  0.610398  0.566580  0.673624  0.463940   \n",
       "24                     0.661632  0.662115  0.644766  0.688135  0.529568   \n",
       "\n",
       "                                                               \\\n",
       "prompt           rope      shoe    shovel     table      tire   \n",
       "participant                                                     \n",
       "46           0.426653  0.610470  0.550574  0.566176  0.590016   \n",
       "24           0.538657  0.566158  0.539689  0.592623  0.486584   \n",
       "\n",
       "            TASA_lsa_stop_idf                                          \\\n",
       "prompt                   book    bottle     brick      fork     pants   \n",
       "participant                                                             \n",
       "46                   0.935649  0.941357  0.853700  0.872578  0.855365   \n",
       "24                   0.969414  0.967103  0.914566  0.963016  0.864231   \n",
       "\n",
       "                                                               \n",
       "prompt           rope      shoe    shovel     table      tire  \n",
       "participant                                                    \n",
       "46           0.825246  0.954721  0.887277  0.828142  0.924558  \n",
       "24           0.840053  0.957946  0.933621  0.991763  0.865372  "
      ]
     },
     "execution_count": 13,
     "metadata": {},
     "output_type": "execute_result"
    }
   ],
   "source": [
    "temp = data.to_wide()\n",
    "temp.sample(2)"
   ]
  },
  {
   "cell_type": "markdown",
   "metadata": {},
   "source": [
    "You can save this with `data.to_wide().to_csv('/path/to/file')`"
   ]
  },
  {
   "cell_type": "markdown",
   "metadata": {},
   "source": [
    "## Fluency Data"
   ]
  },
  {
   "cell_type": "code",
   "execution_count": 17,
   "metadata": {},
   "outputs": [
    {
     "data": {
      "text/html": [
       "<div>\n",
       "<style scoped>\n",
       "    .dataframe tbody tr th:only-of-type {\n",
       "        vertical-align: middle;\n",
       "    }\n",
       "\n",
       "    .dataframe tbody tr th {\n",
       "        vertical-align: top;\n",
       "    }\n",
       "\n",
       "    .dataframe thead th {\n",
       "        text-align: right;\n",
       "    }\n",
       "</style>\n",
       "<table border=\"1\" class=\"dataframe\">\n",
       "  <thead>\n",
       "    <tr style=\"text-align: right;\">\n",
       "      <th></th>\n",
       "      <th>participant</th>\n",
       "      <th>prompt</th>\n",
       "      <th>count</th>\n",
       "    </tr>\n",
       "  </thead>\n",
       "  <tbody>\n",
       "    <tr>\n",
       "      <th>410</th>\n",
       "      <td>42</td>\n",
       "      <td>table</td>\n",
       "      <td>2</td>\n",
       "    </tr>\n",
       "    <tr>\n",
       "      <th>564</th>\n",
       "      <td>58</td>\n",
       "      <td>brick</td>\n",
       "      <td>4</td>\n",
       "    </tr>\n",
       "    <tr>\n",
       "      <th>598</th>\n",
       "      <td>61</td>\n",
       "      <td>shoe</td>\n",
       "      <td>5</td>\n",
       "    </tr>\n",
       "  </tbody>\n",
       "</table>\n",
       "</div>"
      ],
      "text/plain": [
       "     participant prompt  count\n",
       "410           42  table      2\n",
       "564           58  brick      4\n",
       "598           61   shoe      5"
      ]
     },
     "execution_count": 17,
     "metadata": {},
     "output_type": "execute_result"
    }
   ],
   "source": [
    "f = data.fluency()\n",
    "f.sample(3)"
   ]
  },
  {
   "cell_type": "code",
   "execution_count": 19,
   "metadata": {},
   "outputs": [
    {
     "data": {
      "text/html": [
       "<div>\n",
       "<style scoped>\n",
       "    .dataframe tbody tr th:only-of-type {\n",
       "        vertical-align: middle;\n",
       "    }\n",
       "\n",
       "    .dataframe tbody tr th {\n",
       "        vertical-align: top;\n",
       "    }\n",
       "\n",
       "    .dataframe thead th {\n",
       "        text-align: right;\n",
       "    }\n",
       "</style>\n",
       "<table border=\"1\" class=\"dataframe\">\n",
       "  <thead>\n",
       "    <tr style=\"text-align: right;\">\n",
       "      <th>prompt</th>\n",
       "      <th>book</th>\n",
       "      <th>bottle</th>\n",
       "      <th>brick</th>\n",
       "      <th>fork</th>\n",
       "      <th>pants</th>\n",
       "      <th>rope</th>\n",
       "      <th>shoe</th>\n",
       "      <th>shovel</th>\n",
       "      <th>table</th>\n",
       "      <th>tire</th>\n",
       "    </tr>\n",
       "    <tr>\n",
       "      <th>participant</th>\n",
       "      <th></th>\n",
       "      <th></th>\n",
       "      <th></th>\n",
       "      <th></th>\n",
       "      <th></th>\n",
       "      <th></th>\n",
       "      <th></th>\n",
       "      <th></th>\n",
       "      <th></th>\n",
       "      <th></th>\n",
       "    </tr>\n",
       "  </thead>\n",
       "  <tbody>\n",
       "    <tr>\n",
       "      <th>81</th>\n",
       "      <td>17</td>\n",
       "      <td>13</td>\n",
       "      <td>10</td>\n",
       "      <td>12</td>\n",
       "      <td>11</td>\n",
       "      <td>17</td>\n",
       "      <td>10</td>\n",
       "      <td>4</td>\n",
       "      <td>8</td>\n",
       "      <td>9</td>\n",
       "    </tr>\n",
       "    <tr>\n",
       "      <th>24</th>\n",
       "      <td>11</td>\n",
       "      <td>12</td>\n",
       "      <td>10</td>\n",
       "      <td>9</td>\n",
       "      <td>7</td>\n",
       "      <td>12</td>\n",
       "      <td>4</td>\n",
       "      <td>5</td>\n",
       "      <td>13</td>\n",
       "      <td>8</td>\n",
       "    </tr>\n",
       "  </tbody>\n",
       "</table>\n",
       "</div>"
      ],
      "text/plain": [
       "prompt       book  bottle  brick  fork  pants  rope  shoe  shovel  table  tire\n",
       "participant                                                                   \n",
       "81             17      13     10    12     11    17    10       4      8     9\n",
       "24             11      12     10     9      7    12     4       5     13     8"
      ]
     },
     "execution_count": 19,
     "metadata": {},
     "output_type": "execute_result"
    }
   ],
   "source": [
    "f = data.fluency(wide=True)\n",
    "f.sample(2)"
   ]
  }
 ],
 "metadata": {
  "kernelspec": {
   "display_name": "Python 3",
   "language": "python",
   "name": "python3"
  },
  "language_info": {
   "codemirror_mode": {
    "name": "ipython",
    "version": 3
   },
   "file_extension": ".py",
   "mimetype": "text/x-python",
   "name": "python",
   "nbconvert_exporter": "python",
   "pygments_lexer": "ipython3",
   "version": "3.6.7"
  }
 },
 "nbformat": 4,
 "nbformat_minor": 4
}
